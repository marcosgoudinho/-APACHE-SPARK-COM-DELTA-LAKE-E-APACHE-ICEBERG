{
 "cells": [
  {
   "cell_type": "markdown",
   "id": "74721e23",
   "metadata": {},
   "source": [
    "# Apache Iceberg - Cenário e Operações\n",
    "\n",
    "Este notebook descreve o uso do Apache Iceberg com Apache Spark."
   ]
  },
  {
   "cell_type": "markdown",
   "id": "db519c07",
   "metadata": {},
   "source": [
    "## 🗂️ Modelo ER e Fonte de Dados\n",
    "\n",
    "Usaremos uma tabela `usuarios` com o seguinte esquema:\n",
    "\n",
    "- `id` (int)\n",
    "- `nome` (string)\n",
    "- `idade` (int)\n",
    "- `status` (string)\n",
    "\n",
    "A fonte de dados utilizada é um arquivo CSV público com dados de usuários fictícios."
   ]
  },
  {
   "cell_type": "code",
   "execution_count": null,
   "id": "33315bd7",
   "metadata": {},
   "outputs": [],
   "source": [
    "\n",
    "spark = SparkSession.builder     .appName(\"IcebergExample\")     .config(\"spark.sql.catalog.my_catalog\", \"org.apache.iceberg.spark.SparkCatalog\")     .config(\"spark.sql.catalog.my_catalog.type\", \"hadoop\")     .config(\"spark.sql.catalog.my_catalog.warehouse\", \"/tmp/iceberg\")     .getOrCreate()\n"
   ]
  },
  {
   "cell_type": "code",
   "execution_count": null,
   "id": "131a50e8",
   "metadata": {},
   "outputs": [],
   "source": [
    "\n",
    "df = spark.read.csv(\"data/usuarios.csv\", header=True, inferSchema=True)\n",
    "df.show()\n"
   ]
  },
  {
   "cell_type": "markdown",
   "id": "c17f0bb0",
   "metadata": {},
   "source": [
    "## 💾 Criando a tabela Iceberg"
   ]
  },
  {
   "cell_type": "code",
   "execution_count": null,
   "id": "c5888175",
   "metadata": {},
   "outputs": [],
   "source": [
    "\n",
    "df.writeTo(\"my_catalog.db.usuarios\").using(\"iceberg\").createOrReplace()\n"
   ]
  },
  {
   "cell_type": "markdown",
   "id": "3b3a825e",
   "metadata": {},
   "source": [
    "## ➕ Comando INSERT"
   ]
  },
  {
   "cell_type": "code",
   "execution_count": null,
   "id": "225797fe",
   "metadata": {},
   "outputs": [],
   "source": [
    "\n",
    "spark.sql(\"INSERT INTO my_catalog.db.usuarios VALUES (5, 'Ana', 21, 'ativo')\")\n"
   ]
  },
  {
   "cell_type": "markdown",
   "id": "b053df5a",
   "metadata": {},
   "source": [
    "## ✏️ Comando UPDATE"
   ]
  },
  {
   "cell_type": "code",
   "execution_count": null,
   "id": "1981c31d",
   "metadata": {},
   "outputs": [],
   "source": [
    "\n",
    "spark.sql(\"UPDATE my_catalog.db.usuarios SET idade = idade + 1 WHERE idade < 18\")\n"
   ]
  },
  {
   "cell_type": "markdown",
   "id": "1ce40621",
   "metadata": {},
   "source": [
    "## ❌ Comando DELETE"
   ]
  },
  {
   "cell_type": "code",
   "execution_count": null,
   "id": "ead51459",
   "metadata": {},
   "outputs": [],
   "source": [
    "\n",
    "spark.sql(\"DELETE FROM my_catalog.db.usuarios WHERE status = 'inativo'\")\n"
   ]
  }
 ],
 "metadata": {},
 "nbformat": 4,
 "nbformat_minor": 5
}