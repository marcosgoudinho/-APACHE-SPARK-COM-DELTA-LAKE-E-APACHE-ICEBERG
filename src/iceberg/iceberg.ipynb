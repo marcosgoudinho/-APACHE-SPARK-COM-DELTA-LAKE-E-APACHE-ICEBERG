{
 "cells": [
  {
   "cell_type": "markdown",
   "id": "74721e23",
   "metadata": {},
   "source": [
    "# Apache Iceberg - Cenário e Operações\n",
    "\n",
    "Este notebook descreve o uso do Apache Iceberg com Apache Spark."
   ]
  },
  {
   "cell_type": "code",
   "execution_count": 1,
   "id": "33315bd7",
   "metadata": {},
   "outputs": [
    {
     "ename": "NameError",
     "evalue": "name 'SparkSession' is not defined",
     "output_type": "error",
     "traceback": [
      "\u001b[31m---------------------------------------------------------------------------\u001b[39m",
      "\u001b[31mNameError\u001b[39m                                 Traceback (most recent call last)",
      "\u001b[36mCell\u001b[39m\u001b[36m \u001b[39m\u001b[32mIn[1]\u001b[39m\u001b[32m, line 1\u001b[39m\n\u001b[32m----> \u001b[39m\u001b[32m1\u001b[39m spark = \u001b[43mSparkSession\u001b[49m.builder     .appName(\u001b[33m\"\u001b[39m\u001b[33mIcebergExample\u001b[39m\u001b[33m\"\u001b[39m)     .config(\u001b[33m\"\u001b[39m\u001b[33mspark.sql.catalog.my_catalog\u001b[39m\u001b[33m\"\u001b[39m, \u001b[33m\"\u001b[39m\u001b[33morg.apache.iceberg.spark.SparkCatalog\u001b[39m\u001b[33m\"\u001b[39m)     .config(\u001b[33m\"\u001b[39m\u001b[33mspark.sql.catalog.my_catalog.type\u001b[39m\u001b[33m\"\u001b[39m, \u001b[33m\"\u001b[39m\u001b[33mhadoop\u001b[39m\u001b[33m\"\u001b[39m)     .config(\u001b[33m\"\u001b[39m\u001b[33mspark.sql.catalog.my_catalog.warehouse\u001b[39m\u001b[33m\"\u001b[39m, \u001b[33m\"\u001b[39m\u001b[33m/tmp/iceberg\u001b[39m\u001b[33m\"\u001b[39m)     .getOrCreate()\n",
      "\u001b[31mNameError\u001b[39m: name 'SparkSession' is not defined"
     ]
    }
   ],
   "source": [
    "\n",
    "spark = SparkSession.builder     .appName(\"IcebergExample\")     .config(\"spark.sql.catalog.my_catalog\", \"org.apache.iceberg.spark.SparkCatalog\")     .config(\"spark.sql.catalog.my_catalog.type\", \"hadoop\")     .config(\"spark.sql.catalog.my_catalog.warehouse\", \"/tmp/iceberg\")     .getOrCreate()\n"
   ]
  },
  {
   "cell_type": "code",
   "execution_count": null,
   "id": "131a50e8",
   "metadata": {},
   "outputs": [],
   "source": [
    "\n",
    "df = spark.read.csv(\"data/teste.csv\", header=True, inferSchema=True)\n",
    "df.show()\n"
   ]
  },
  {
   "cell_type": "markdown",
   "id": "c17f0bb0",
   "metadata": {},
   "source": [
    "## 💾 Criando a tabela Iceberg"
   ]
  },
  {
   "cell_type": "code",
   "execution_count": null,
   "id": "c5888175",
   "metadata": {},
   "outputs": [],
   "source": [
    "\n",
    "df.writeTo(\"my_catalog.db.usuarios\").using(\"iceberg\").createOrReplace()\n"
   ]
  },
  {
   "cell_type": "markdown",
   "id": "3b3a825e",
   "metadata": {},
   "source": [
    "## ➕ Comando INSERT"
   ]
  },
  {
   "cell_type": "code",
   "execution_count": null,
   "id": "225797fe",
   "metadata": {},
   "outputs": [],
   "source": [
    "\n",
    "spark.sql(\"INSERT INTO my_catalog.db.usuarios VALUES (5, 'Ana', 21, 'ativo')\")\n"
   ]
  },
  {
   "cell_type": "markdown",
   "id": "b053df5a",
   "metadata": {},
   "source": [
    "## ✏️ Comando UPDATE"
   ]
  },
  {
   "cell_type": "code",
   "execution_count": null,
   "id": "1981c31d",
   "metadata": {},
   "outputs": [],
   "source": [
    "\n",
    "spark.sql(\"UPDATE my_catalog.db.usuarios SET idade = idade + 1 WHERE idade < 18\")\n"
   ]
  },
  {
   "cell_type": "markdown",
   "id": "1ce40621",
   "metadata": {},
   "source": [
    "## ❌ Comando DELETE"
   ]
  },
  {
   "cell_type": "code",
   "execution_count": null,
   "id": "ead51459",
   "metadata": {},
   "outputs": [],
   "source": [
    "\n",
    "spark.sql(\"DELETE FROM my_catalog.db.usuarios WHERE status = 'inativo'\")\n"
   ]
  }
 ],
 "metadata": {
  "kernelspec": {
   "display_name": "Python 3",
   "language": "python",
   "name": "python3"
  },
  "language_info": {
   "codemirror_mode": {
    "name": "ipython",
    "version": 3
   },
   "file_extension": ".py",
   "mimetype": "text/x-python",
   "name": "python",
   "nbconvert_exporter": "python",
   "pygments_lexer": "ipython3",
   "version": "3.13.1"
  }
 },
 "nbformat": 4,
 "nbformat_minor": 5
}
