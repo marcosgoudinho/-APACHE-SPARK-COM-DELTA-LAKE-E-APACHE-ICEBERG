{
 "cells": [
  {
   "cell_type": "markdown",
   "id": "f8b3b351",
   "metadata": {},
   "source": [
    "# Delta Lake - Cenário e Operações\n",
    "\n",
    "Este notebook descreve o uso do Delta Lake com Apache Spark."
   ]
  },
  {
   "cell_type": "markdown",
   "id": "4a6816d4",
   "metadata": {},
   "source": [
    "## 🗂️ Modelo ER e Fonte de Dados\n",
    "\n",
    "Usaremos uma tabela `usuarios` com o seguinte esquema:\n",
    "\n",
    "- `id` (int)\n",
    "- `nome` (string)\n",
    "- `idade` (int)\n",
    "- `status` (string)\n",
    "\n",
    "A fonte de dados utilizada é um arquivo CSV público com dados de usuários fictícios."
   ]
  },
  {
   "cell_type": "code",
   "execution_count": 1,
   "id": "c3e771be",
   "metadata": {},
   "outputs": [
    {
     "ename": "ModuleNotFoundError",
     "evalue": "No module named 'pyspark'",
     "output_type": "error",
     "traceback": [
      "\u001b[31m---------------------------------------------------------------------------\u001b[39m",
      "\u001b[31mModuleNotFoundError\u001b[39m                       Traceback (most recent call last)",
      "\u001b[36mCell\u001b[39m\u001b[36m \u001b[39m\u001b[32mIn[1]\u001b[39m\u001b[32m, line 1\u001b[39m\n\u001b[32m----> \u001b[39m\u001b[32m1\u001b[39m \u001b[38;5;28;01mfrom\u001b[39;00m\u001b[38;5;250m \u001b[39m\u001b[34;01mpyspark\u001b[39;00m\u001b[34;01m.\u001b[39;00m\u001b[34;01msql\u001b[39;00m\u001b[38;5;250m \u001b[39m\u001b[38;5;28;01mimport\u001b[39;00m SparkSession\n\u001b[32m      2\u001b[39m spark = SparkSession.builder     .appName(\u001b[33m\"\u001b[39m\u001b[33mDeltaLakeExample\u001b[39m\u001b[33m\"\u001b[39m)     .config(\u001b[33m\"\u001b[39m\u001b[33mspark.sql.extensions\u001b[39m\u001b[33m\"\u001b[39m, \u001b[33m\"\u001b[39m\u001b[33mio.delta.sql.DeltaSparkSessionExtension\u001b[39m\u001b[33m\"\u001b[39m)     .config(\u001b[33m\"\u001b[39m\u001b[33mspark.sql.catalog.spark_catalog\u001b[39m\u001b[33m\"\u001b[39m, \u001b[33m\"\u001b[39m\u001b[33morg.apache.spark.sql.delta.catalog.DeltaCatalog\u001b[39m\u001b[33m\"\u001b[39m)     .getOrCreate()\n",
      "\u001b[31mModuleNotFoundError\u001b[39m: No module named 'pyspark'"
     ]
    }
   ],
   "source": [
    "\n",
    "from pyspark.sql import SparkSession\n",
    "spark = SparkSession.builder     .appName(\"DeltaLakeExample\")     .config(\"spark.sql.extensions\", \"io.delta.sql.DeltaSparkSessionExtension\")     .config(\"spark.sql.catalog.spark_catalog\", \"org.apache.spark.sql.delta.catalog.DeltaCatalog\")     .getOrCreate()\n"
   ]
  },
  {
   "cell_type": "code",
   "execution_count": null,
   "id": "4a210c59",
   "metadata": {},
   "outputs": [],
   "source": [
    "\n",
    "df = spark.read.csv(\"data/usuarios.csv\", header=True, inferSchema=True)\n",
    "df.show()\n"
   ]
  },
  {
   "cell_type": "markdown",
   "id": "03bd0ca8",
   "metadata": {},
   "source": [
    "## 💾 Criando a tabela Delta"
   ]
  },
  {
   "cell_type": "code",
   "execution_count": null,
   "id": "18d0c7c8",
   "metadata": {},
   "outputs": [],
   "source": [
    "\n",
    "df.write.format(\"delta\").mode(\"overwrite\").save(\"/tmp/delta/usuarios\")\n"
   ]
  },
  {
   "cell_type": "markdown",
   "id": "ccefcb5c",
   "metadata": {},
   "source": [
    "## ➕ Comando INSERT"
   ]
  },
  {
   "cell_type": "code",
   "execution_count": null,
   "id": "315d7659",
   "metadata": {},
   "outputs": [],
   "source": [
    "\n",
    "from pyspark.sql import Row\n",
    "\n",
    "new_users = [Row(id=4, nome=\"Carlos\", idade=22, status=\"ativo\")]\n",
    "spark.createDataFrame(new_users).write.format(\"delta\").mode(\"append\").save(\"/tmp/delta/usuarios\")\n"
   ]
  },
  {
   "cell_type": "markdown",
   "id": "f1ee5798",
   "metadata": {},
   "source": [
    "## ✏️ Comando UPDATE"
   ]
  },
  {
   "cell_type": "code",
   "execution_count": null,
   "id": "50b35a9c",
   "metadata": {},
   "outputs": [],
   "source": [
    "\n",
    "from delta.tables import DeltaTable\n",
    "delta_table = DeltaTable.forPath(spark, \"/tmp/delta/usuarios\")\n",
    "delta_table.update(\"idade < 18\", {\"idade\": \"18\"})\n"
   ]
  },
  {
   "cell_type": "markdown",
   "id": "042aec68",
   "metadata": {},
   "source": [
    "## ❌ Comando DELETE"
   ]
  },
  {
   "cell_type": "code",
   "execution_count": null,
   "id": "92c400cb",
   "metadata": {},
   "outputs": [],
   "source": [
    "\n",
    "delta_table.delete(\"status = 'inativo'\")\n"
   ]
  }
 ],
 "metadata": {
  "kernelspec": {
   "display_name": "Python 3",
   "language": "python",
   "name": "python3"
  },
  "language_info": {
   "codemirror_mode": {
    "name": "ipython",
    "version": 3
   },
   "file_extension": ".py",
   "mimetype": "text/x-python",
   "name": "python",
   "nbconvert_exporter": "python",
   "pygments_lexer": "ipython3",
   "version": "3.13.1"
  }
 },
 "nbformat": 4,
 "nbformat_minor": 5
}
